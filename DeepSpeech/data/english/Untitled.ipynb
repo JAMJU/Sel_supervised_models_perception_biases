{
 "cells": [
  {
   "cell_type": "code",
   "execution_count": 5,
   "id": "c1d5d2b5",
   "metadata": {},
   "outputs": [],
   "source": [
    "import pandas as pd "
   ]
  },
  {
   "cell_type": "code",
   "execution_count": 6,
   "id": "ac4cff6b",
   "metadata": {},
   "outputs": [],
   "source": [
    "df = pd.read_json('commonvoice_test_manifest.json')\n"
   ]
  },
  {
   "cell_type": "code",
   "execution_count": 7,
   "id": "3d4277dc",
   "metadata": {},
   "outputs": [],
   "source": [
    "df.to_csv('commonvoice_test_manifest.csv')"
   ]
  },
  {
   "cell_type": "code",
   "execution_count": null,
   "id": "7a1a8ea0",
   "metadata": {},
   "outputs": [],
   "source": []
  }
 ],
 "metadata": {
  "kernelspec": {
   "display_name": "Python 3",
   "language": "python",
   "name": "python3"
  },
  "language_info": {
   "codemirror_mode": {
    "name": "ipython",
    "version": 3
   },
   "file_extension": ".py",
   "mimetype": "text/x-python",
   "name": "python",
   "nbconvert_exporter": "python",
   "pygments_lexer": "ipython3",
   "version": "3.8.8"
  }
 },
 "nbformat": 4,
 "nbformat_minor": 5
}
